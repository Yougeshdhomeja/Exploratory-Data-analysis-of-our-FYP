{
 "cells": [
  {
   "cell_type": "code",
   "execution_count": 117,
   "metadata": {},
   "outputs": [
    {
     "name": "stdout",
     "output_type": "stream",
     "text": [
      "['G:\\\\FYP-TT-3DCNN\\\\MedialVal\\\\data\\\\videos\\\\10661561042.mp4', 'G:\\\\FYP-TT-3DCNN\\\\MedialVal\\\\data\\\\videos\\\\129114896.mp4', 'G:\\\\FYP-TT-3DCNN\\\\MedialVal\\\\data\\\\videos\\\\2410397939.mp4', 'G:\\\\FYP-TT-3DCNN\\\\MedialVal\\\\data\\\\videos\\\\2523546102.mp4', 'G:\\\\FYP-TT-3DCNN\\\\MedialVal\\\\data\\\\videos\\\\2641621031.mp4', 'G:\\\\FYP-TT-3DCNN\\\\MedialVal\\\\data\\\\videos\\\\272585298.mp4', 'G:\\\\FYP-TT-3DCNN\\\\MedialVal\\\\data\\\\videos\\\\3105558722.mp4', 'G:\\\\FYP-TT-3DCNN\\\\MedialVal\\\\data\\\\videos\\\\362782279.mp4', 'G:\\\\FYP-TT-3DCNN\\\\MedialVal\\\\data\\\\videos\\\\4109893481.mp4', 'G:\\\\FYP-TT-3DCNN\\\\MedialVal\\\\data\\\\videos\\\\4610938882.mp4', 'G:\\\\FYP-TT-3DCNN\\\\MedialVal\\\\data\\\\videos\\\\4657106722.mp4', 'G:\\\\FYP-TT-3DCNN\\\\MedialVal\\\\data\\\\videos\\\\468477648.mp4', 'G:\\\\FYP-TT-3DCNN\\\\MedialVal\\\\data\\\\videos\\\\489771529.mp4', 'G:\\\\FYP-TT-3DCNN\\\\MedialVal\\\\data\\\\videos\\\\49110110313.mp4', 'G:\\\\FYP-TT-3DCNN\\\\MedialVal\\\\data\\\\videos\\\\56310310736.mp4', 'G:\\\\FYP-TT-3DCNN\\\\MedialVal\\\\data\\\\videos\\\\57691061109.mp4', 'G:\\\\FYP-TT-3DCNN\\\\MedialVal\\\\data\\\\videos\\\\586266978.mp4', 'G:\\\\FYP-TT-3DCNN\\\\MedialVal\\\\data\\\\videos\\\\5947245610.mp4', 'G:\\\\FYP-TT-3DCNN\\\\MedialVal\\\\data\\\\videos\\\\614528885.mp4', 'G:\\\\FYP-TT-3DCNN\\\\MedialVal\\\\data\\\\videos\\\\6573299108.mp4', 'G:\\\\FYP-TT-3DCNN\\\\MedialVal\\\\data\\\\videos\\\\686447163.mp4', 'G:\\\\FYP-TT-3DCNN\\\\MedialVal\\\\data\\\\videos\\\\695933698.mp4', 'G:\\\\FYP-TT-3DCNN\\\\MedialVal\\\\data\\\\videos\\\\71023710613.mp4', 'G:\\\\FYP-TT-3DCNN\\\\MedialVal\\\\data\\\\videos\\\\7555101722.mp4', 'G:\\\\FYP-TT-3DCNN\\\\MedialVal\\\\data\\\\videos\\\\842826553.mp4', 'G:\\\\FYP-TT-3DCNN\\\\MedialVal\\\\data\\\\videos\\\\8510348532.mp4', 'G:\\\\FYP-TT-3DCNN\\\\MedialVal\\\\data\\\\videos\\\\8853110868.mp4', 'G:\\\\FYP-TT-3DCNN\\\\MedialVal\\\\data\\\\videos\\\\9105686568.mp4']\n"
     ]
    }
   ],
   "source": [
    "import os\n",
    "import glob\n",
    "from moviepy.editor import VideoFileClip\n",
    "import random\n",
    "import matplotlib.cm as cm\n",
    "from matplotlib.colors import Normalize\n",
    "train_files = ['MedialVal', 'data', 'classificationTask', 'train']\n",
    "valid_files = ['MedialVal', 'data', 'classificationTask', 'valid']\n",
    "files = ['MedialVal', 'data', 'videos']\n",
    "train_path = os.path.join(os.getcwd(), *train_files)\n",
    "valid_path = os.path.join(os.getcwd(), *valid_files)\n",
    "video_path = os.path.join(os.getcwd(), *files)\n",
    "#finding videos paths\n",
    "videos_paths=glob.glob(os.path.join(video_path, \"*.mp4\"))\n",
    "print(videos_paths)"
   ]
  },
  {
   "cell_type": "code",
   "execution_count": 118,
   "metadata": {},
   "outputs": [
    {
     "name": "stdout",
     "output_type": "stream",
     "text": [
      "28\n"
     ]
    }
   ],
   "source": [
    "#couting total no of videos\n",
    "tot_no_of_videos= len(videos_paths)\n",
    "print(tot_no_of_videos)"
   ]
  },
  {
   "cell_type": "code",
   "execution_count": 119,
   "metadata": {},
   "outputs": [
    {
     "name": "stdout",
     "output_type": "stream",
     "text": [
      "[72.2, 95.5, 96.39, 82.99, 482.98, 532.53, 482.98, 426.14, 36.06, 84.87, 482.98, 18.35, 155.45, 155.45, 78.05, 84.83, 424.54, 41.94, 68.23, 482.98, 94.81, 324.23, 30.81, 482.98, 45.4, 75.5, 67.79, 482.98]\n"
     ]
    }
   ],
   "source": [
    "#finding duration of videos\n",
    "videos_duration=list()\n",
    "for video in videos_paths:\n",
    "    clip=VideoFileClip(video)\n",
    "    videos_duration.append(clip.duration)\n",
    "\n",
    "print(videos_duration)    "
   ]
  },
  {
   "cell_type": "code",
   "execution_count": 120,
   "metadata": {},
   "outputs": [],
   "source": [
    "#finding maximum duration\n",
    "max_duration=max(videos_duration)\n",
    "#finding minimum duration\n",
    "min_duration=min(videos_duration)\n",
    "#finding average duration \n",
    "avg_duration=sum(videos_duration)\n",
    "avg_duration=avg_duration/tot_no_of_videos\n",
    "\n",
    "aggregate_duration_list=[max_duration,min_duration,avg_duration]\n",
    "aggregate_duration_names=[\"Maximum Duration\",\"Minimum Duration\",\"Average Duration\"]"
   ]
  },
  {
   "cell_type": "code",
   "execution_count": 121,
   "metadata": {},
   "outputs": [
    {
     "data": {
      "image/png": "[encoded data removed]",
      "text/plain": [
       "<Figure size 432x288 with 1 Axes>"
      ]
     },
     "metadata": {
      "needs_background": "light"
     },
     "output_type": "display_data"
    }
   ],
   "source": [
    "import matplotlib.pyplot as plt\n",
    "plt.title('Duration of Videos in Seconds')\n",
    "color=['green', 'red', 'blue']\n",
    "plt.bar(aggregate_duration_names,height=aggregate_duration_list,color=color)\n",
    "plt.show()"
   ]
  },
  {
   "cell_type": "code",
   "execution_count": 122,
   "metadata": {},
   "outputs": [],
   "source": [
    "from xml.dom import minidom"
   ]
  },
  {
   "cell_type": "code",
   "execution_count": 123,
   "metadata": {},
   "outputs": [],
   "source": [
    "# train_mypath=\"G://FYP-TT-3DCNN//MedialVal//data//classificationTask//train//\"\n",
    "# valid_mypath=\"G://FYP-TT-3DCNN//MedialVal//data//classificationTask//valid//\""
   ]
  },
  {
   "cell_type": "code",
   "execution_count": 124,
   "metadata": {},
   "outputs": [
    {
     "name": "stdout",
     "output_type": "stream",
     "text": [
      "['G:\\\\FYP-TT-3DCNN\\\\MedialVal\\\\data\\\\classificationTask\\\\train\\\\10661561042.xml', 'G:\\\\FYP-TT-3DCNN\\\\MedialVal\\\\data\\\\classificationTask\\\\train\\\\129114896.xml', 'G:\\\\FYP-TT-3DCNN\\\\MedialVal\\\\data\\\\classificationTask\\\\train\\\\2410397939.xml', 'G:\\\\FYP-TT-3DCNN\\\\MedialVal\\\\data\\\\classificationTask\\\\train\\\\2523546102.xml', 'G:\\\\FYP-TT-3DCNN\\\\MedialVal\\\\data\\\\classificationTask\\\\train\\\\2641621031.xml', 'G:\\\\FYP-TT-3DCNN\\\\MedialVal\\\\data\\\\classificationTask\\\\train\\\\272585298.xml', 'G:\\\\FYP-TT-3DCNN\\\\MedialVal\\\\data\\\\classificationTask\\\\train\\\\3105558722.xml', 'G:\\\\FYP-TT-3DCNN\\\\MedialVal\\\\data\\\\classificationTask\\\\train\\\\4109893481.xml', 'G:\\\\FYP-TT-3DCNN\\\\MedialVal\\\\data\\\\classificationTask\\\\train\\\\4610938882.xml', 'G:\\\\FYP-TT-3DCNN\\\\MedialVal\\\\data\\\\classificationTask\\\\train\\\\4657106722.xml', 'G:\\\\FYP-TT-3DCNN\\\\MedialVal\\\\data\\\\classificationTask\\\\train\\\\468477648.xml', 'G:\\\\FYP-TT-3DCNN\\\\MedialVal\\\\data\\\\classificationTask\\\\train\\\\56310310736.xml', 'G:\\\\FYP-TT-3DCNN\\\\MedialVal\\\\data\\\\classificationTask\\\\train\\\\57691061109.xml', 'G:\\\\FYP-TT-3DCNN\\\\MedialVal\\\\data\\\\classificationTask\\\\train\\\\586266978.xml', 'G:\\\\FYP-TT-3DCNN\\\\MedialVal\\\\data\\\\classificationTask\\\\train\\\\5947245610.xml', 'G:\\\\FYP-TT-3DCNN\\\\MedialVal\\\\data\\\\classificationTask\\\\train\\\\614528885.xml', 'G:\\\\FYP-TT-3DCNN\\\\MedialVal\\\\data\\\\classificationTask\\\\train\\\\686447163.xml', 'G:\\\\FYP-TT-3DCNN\\\\MedialVal\\\\data\\\\classificationTask\\\\train\\\\71023710613.xml', 'G:\\\\FYP-TT-3DCNN\\\\MedialVal\\\\data\\\\classificationTask\\\\train\\\\7555101722.xml', 'G:\\\\FYP-TT-3DCNN\\\\MedialVal\\\\data\\\\classificationTask\\\\train\\\\842826553.xml', 'G:\\\\FYP-TT-3DCNN\\\\MedialVal\\\\data\\\\classificationTask\\\\train\\\\8510348532.xml', 'G:\\\\FYP-TT-3DCNN\\\\MedialVal\\\\data\\\\classificationTask\\\\train\\\\9105686568.xml']\n",
      "['G:\\\\FYP-TT-3DCNN\\\\MedialVal\\\\data\\\\classificationTask\\\\valid\\\\10661561042.xml', 'G:\\\\FYP-TT-3DCNN\\\\MedialVal\\\\data\\\\classificationTask\\\\valid\\\\129114896.xml', 'G:\\\\FYP-TT-3DCNN\\\\MedialVal\\\\data\\\\classificationTask\\\\valid\\\\2410397939.xml', 'G:\\\\FYP-TT-3DCNN\\\\MedialVal\\\\data\\\\classificationTask\\\\valid\\\\2523546102.xml', 'G:\\\\FYP-TT-3DCNN\\\\MedialVal\\\\data\\\\classificationTask\\\\valid\\\\2641621031.xml', 'G:\\\\FYP-TT-3DCNN\\\\MedialVal\\\\data\\\\classificationTask\\\\valid\\\\272585298.xml', 'G:\\\\FYP-TT-3DCNN\\\\MedialVal\\\\data\\\\classificationTask\\\\valid\\\\3105558722.xml', 'G:\\\\FYP-TT-3DCNN\\\\MedialVal\\\\data\\\\classificationTask\\\\valid\\\\4109893481.xml', 'G:\\\\FYP-TT-3DCNN\\\\MedialVal\\\\data\\\\classificationTask\\\\valid\\\\4610938882.xml', 'G:\\\\FYP-TT-3DCNN\\\\MedialVal\\\\data\\\\classificationTask\\\\valid\\\\4657106722.xml', 'G:\\\\FYP-TT-3DCNN\\\\MedialVal\\\\data\\\\classificationTask\\\\valid\\\\468477648.xml', 'G:\\\\FYP-TT-3DCNN\\\\MedialVal\\\\data\\\\classificationTask\\\\valid\\\\56310310736.xml', 'G:\\\\FYP-TT-3DCNN\\\\MedialVal\\\\data\\\\classificationTask\\\\valid\\\\57691061109.xml', 'G:\\\\FYP-TT-3DCNN\\\\MedialVal\\\\data\\\\classificationTask\\\\valid\\\\586266978.xml', 'G:\\\\FYP-TT-3DCNN\\\\MedialVal\\\\data\\\\classificationTask\\\\valid\\\\5947245610.xml', 'G:\\\\FYP-TT-3DCNN\\\\MedialVal\\\\data\\\\classificationTask\\\\valid\\\\614528885.xml', 'G:\\\\FYP-TT-3DCNN\\\\MedialVal\\\\data\\\\classificationTask\\\\valid\\\\686447163.xml', 'G:\\\\FYP-TT-3DCNN\\\\MedialVal\\\\data\\\\classificationTask\\\\valid\\\\71023710613.xml', 'G:\\\\FYP-TT-3DCNN\\\\MedialVal\\\\data\\\\classificationTask\\\\valid\\\\7555101722.xml', 'G:\\\\FYP-TT-3DCNN\\\\MedialVal\\\\data\\\\classificationTask\\\\valid\\\\842826553.xml', 'G:\\\\FYP-TT-3DCNN\\\\MedialVal\\\\data\\\\classificationTask\\\\valid\\\\8510348532.xml', 'G:\\\\FYP-TT-3DCNN\\\\MedialVal\\\\data\\\\classificationTask\\\\valid\\\\9105686568.xml']\n"
     ]
    }
   ],
   "source": [
    "# train_xml_paths = glob.glob1(train_path,\"*.xml\")\n",
    "\n",
    "train_xml_paths=glob.glob(os.path.join(train_path, \"*.xml\"))\n",
    "print(train_xml_paths)\n",
    "\n",
    "valid_xml_paths = glob.glob(os.path.join(valid_path, \"*.xml\"))\n",
    "print(valid_xml_paths)"
   ]
  },
  {
   "cell_type": "code",
   "execution_count": 125,
   "metadata": {},
   "outputs": [
    {
     "name": "stdout",
     "output_type": "stream",
     "text": [
      "18\n",
      "['Offensive Forehand Hit', 'Offensive Forehand Loop', 'Offensive Backhand Loop', 'Offensive Backhand Hit', 'Defensive Forehand Push', 'Defensive Forehand Block', 'Defensive Forehand Backspin', 'Defensive Backhand Backspin', 'Defensive Backhand Push', 'Defensive Backhand Block', 'Serve Forehand Backspin', 'Serve Forehand Sidespin', 'Serve Forehand Loop', 'Serve Forehand Topspin', 'Serve Backhand Backspin', 'Serve Backhand Topspin', 'Offensive Backhand Flip', 'Offensive Forehand Flip']\n"
     ]
    }
   ],
   "source": [
    "#Extracting stroke classes from valid and training set\n",
    "stroke_class=list()\n",
    "no_of_strokes=list()\n",
    "for filename in train_xml_paths:\n",
    "    file = minidom.parse(filename)\n",
    "    node = file.getElementsByTagName('action')\n",
    "    for strokes in node:\n",
    "        stroke_name=strokes.attributes['move'].value\n",
    "        if stroke_name not in stroke_class:\n",
    "            stroke_class.append(stroke_name)\n",
    "for filename in valid_xml_paths:\n",
    "    file = minidom.parse(filename)\n",
    "    node = file.getElementsByTagName('action')\n",
    "    for strokes in node:\n",
    "        stroke_name=strokes.attributes['move'].value\n",
    "        if stroke_name not in stroke_class:\n",
    "            stroke_class.append(stroke_name)\n",
    "    \n",
    "    \n",
    "print(len(stroke_class))\n",
    "print(stroke_class)"
   ]
  },
  {
   "cell_type": "code",
   "execution_count": 126,
   "metadata": {},
   "outputs": [
    {
     "name": "stdout",
     "output_type": "stream",
     "text": [
      "[0, 0, 0, 0, 0, 0, 0, 0, 0, 0, 0, 0, 0, 0, 0, 0, 0, 0]\n"
     ]
    }
   ],
   "source": [
    "for x in range(len(stroke_class)):\n",
    "    no_of_strokes.append(0)\n",
    "print(no_of_strokes)    "
   ]
  },
  {
   "cell_type": "code",
   "execution_count": 127,
   "metadata": {},
   "outputs": [],
   "source": [
    "it = iter(stroke_class)\n",
    "it1=iter(no_of_strokes)\n",
    "strokes_in_train = dict(zip(it, it1))"
   ]
  },
  {
   "cell_type": "code",
   "execution_count": 128,
   "metadata": {},
   "outputs": [
    {
     "data": {
      "text/plain": [
       "{'Offensive Forehand Hit': 0,\n",
       " 'Offensive Forehand Loop': 0,\n",
       " 'Offensive Backhand Loop': 0,\n",
       " 'Offensive Backhand Hit': 0,\n",
       " 'Defensive Forehand Push': 0,\n",
       " 'Defensive Forehand Block': 0,\n",
       " 'Defensive Forehand Backspin': 0,\n",
       " 'Defensive Backhand Backspin': 0,\n",
       " 'Defensive Backhand Push': 0,\n",
       " 'Defensive Backhand Block': 0,\n",
       " 'Serve Forehand Backspin': 0,\n",
       " 'Serve Forehand Sidespin': 0,\n",
       " 'Serve Forehand Loop': 0,\n",
       " 'Serve Forehand Topspin': 0,\n",
       " 'Serve Backhand Backspin': 0,\n",
       " 'Serve Backhand Topspin': 0,\n",
       " 'Offensive Backhand Flip': 0,\n",
       " 'Offensive Forehand Flip': 0}"
      ]
     },
     "execution_count": 128,
     "metadata": {},
     "output_type": "execute_result"
    }
   ],
   "source": [
    "strokes_in_train"
   ]
  },
  {
   "cell_type": "code",
   "execution_count": 129,
   "metadata": {},
   "outputs": [],
   "source": [
    "for train_xml_path in train_xml_paths:\n",
    "    file = minidom.parse(train_xml_path)\n",
    "    node = file.getElementsByTagName('action')\n",
    "    for strokes in node:\n",
    "        stroke_name=strokes.attributes['move'].value\n",
    "        strokes_in_train.update({stroke_name:int(strokes_in_train.get(stroke_name))+1})"
   ]
  },
  {
   "cell_type": "code",
   "execution_count": 130,
   "metadata": {},
   "outputs": [
    {
     "data": {
      "text/plain": [
       "{'Offensive Forehand Hit': 71,\n",
       " 'Offensive Forehand Loop': 57,\n",
       " 'Offensive Backhand Loop': 20,\n",
       " 'Offensive Backhand Hit': 38,\n",
       " 'Defensive Forehand Push': 43,\n",
       " 'Defensive Forehand Block': 44,\n",
       " 'Defensive Forehand Backspin': 28,\n",
       " 'Defensive Backhand Backspin': 35,\n",
       " 'Defensive Backhand Push': 31,\n",
       " 'Defensive Backhand Block': 95,\n",
       " 'Serve Forehand Backspin': 15,\n",
       " 'Serve Forehand Sidespin': 1,\n",
       " 'Serve Forehand Loop': 2,\n",
       " 'Serve Forehand Topspin': 46,\n",
       " 'Serve Backhand Backspin': 10,\n",
       " 'Serve Backhand Topspin': 14,\n",
       " 'Offensive Backhand Flip': 23,\n",
       " 'Offensive Forehand Flip': 29}"
      ]
     },
     "execution_count": 130,
     "metadata": {},
     "output_type": "execute_result"
    }
   ],
   "source": [
    "strokes_in_train"
   ]
  },
  {
   "cell_type": "code",
   "execution_count": 131,
   "metadata": {},
   "outputs": [
    {
     "data": {
      "image/png": "[encoded data removed]",
      "text/plain": [
       "<Figure size 432x288 with 1 Axes>"
      ]
     },
     "metadata": {
      "needs_background": "light"
     },
     "output_type": "display_data"
    }
   ],
   "source": [
    "plt.title('Train Samples')\n",
    "stroke_name = strokes_in_train.keys()\n",
    "stroke_count = strokes_in_train.values()\n",
    "my_cmap = cm.get_cmap('jet')\n",
    "my_norm = Normalize(vmin=0, vmax=len(stroke_class))\n",
    "plt.bar(stroke_name,height=stroke_count,color=my_cmap(my_norm([random.randrange(1,len(stroke_class)) for x in range(len(stroke_class))])))\n",
    "plt.xticks(range(len(stroke_name)), stroke_name, rotation='vertical')\n",
    "plt.show()"
   ]
  },
  {
   "cell_type": "code",
   "execution_count": null,
   "metadata": {},
   "outputs": [],
   "source": []
  },
  {
   "cell_type": "code",
   "execution_count": 132,
   "metadata": {},
   "outputs": [],
   "source": [
    "# strokes_in_valid={\"Defensive Backhand Backspin\":0,\"Defensive Backhand Block\":0,\"Defensive Backhand Push\":0,\n",
    "#                   \"Defensive Forehand Backspin\":0,\"Defensive Forehand Block\":0,\"Defensive Forehand Push\":0,\n",
    "#                   \"Offensive Backhand Flip\":0,\"Offensive Backhand Hit\":0,\"Offensive Backhand Loop\":0,\n",
    "#                   \"Offensive Forehand Flip\":0,\"Offensive Forehand Hit\":0,\"Offensive Forehand Loop\":0,\n",
    "#                   \"Serve Backhand Backspin\":0,\"Serve Backhand Loop\":0,\"Serve Backhand Sidespin\":0,\n",
    "#                   \"Serve Backhand Topspin\":0,\"Serve Forehand Backspin\":0,\"Serve Forehand Loop\":0,\n",
    "#                    \"Serve Forehand Sidespin\":0,\"Serve Forehand Topspin\":0,\"Non strokes samples\":0}\n",
    "it = iter(stroke_class)\n",
    "it1=iter(no_of_strokes)\n",
    "strokes_in_valid = dict(zip(it, it1))"
   ]
  },
  {
   "cell_type": "code",
   "execution_count": 133,
   "metadata": {},
   "outputs": [],
   "source": [
    "for valid_xml_path in valid_xml_paths:\n",
    "    file = minidom.parse(valid_xml_path)\n",
    "    node = file.getElementsByTagName('action')\n",
    "    for strokes in node:\n",
    "        stroke_name=strokes.attributes['move'].value\n",
    "        strokes_in_valid.update({stroke_name:int(strokes_in_valid.get(stroke_name))+1})\n",
    "    "
   ]
  },
  {
   "cell_type": "code",
   "execution_count": 134,
   "metadata": {},
   "outputs": [
    {
     "data": {
      "text/plain": [
       "{'Offensive Forehand Hit': 28,\n",
       " 'Offensive Forehand Loop': 24,\n",
       " 'Offensive Backhand Loop': 3,\n",
       " 'Offensive Backhand Hit': 8,\n",
       " 'Defensive Forehand Push': 14,\n",
       " 'Defensive Forehand Block': 9,\n",
       " 'Defensive Forehand Backspin': 6,\n",
       " 'Defensive Backhand Backspin': 15,\n",
       " 'Defensive Backhand Push': 9,\n",
       " 'Defensive Backhand Block': 31,\n",
       " 'Serve Forehand Backspin': 4,\n",
       " 'Serve Forehand Sidespin': 0,\n",
       " 'Serve Forehand Loop': 4,\n",
       " 'Serve Forehand Topspin': 16,\n",
       " 'Serve Backhand Backspin': 2,\n",
       " 'Serve Backhand Topspin': 6,\n",
       " 'Offensive Backhand Flip': 5,\n",
       " 'Offensive Forehand Flip': 10}"
      ]
     },
     "execution_count": 134,
     "metadata": {},
     "output_type": "execute_result"
    }
   ],
   "source": [
    "strokes_in_valid"
   ]
  },
  {
   "cell_type": "code",
   "execution_count": 135,
   "metadata": {},
   "outputs": [
    {
     "data": {
      "image/png": "[encoded data removed]",
      "text/plain": [
       "<Figure size 432x288 with 1 Axes>"
      ]
     },
     "metadata": {
      "needs_background": "light"
     },
     "output_type": "display_data"
    }
   ],
   "source": [
    "plt.title('Valid Samples')\n",
    "stroke_name = strokes_in_valid.keys()\n",
    "stroke_count = strokes_in_valid.values()\n",
    "my_cmap = cm.get_cmap('jet')\n",
    "my_norm = Normalize(vmin=0, vmax=len(stroke_class))\n",
    "plt.bar(stroke_name,height=stroke_count,color=my_cmap(my_norm([random.randrange(1,len(stroke_class)) for x in range(len(stroke_class))])))\n",
    "plt.xticks(range(len(stroke_name)), stroke_name, rotation='vertical')\n",
    "plt.show()"
   ]
  },
  {
   "cell_type": "code",
   "execution_count": 136,
   "metadata": {},
   "outputs": [],
   "source": [
    "no_of_frames=list()\n",
    "for x in range(len(stroke_class)):\n",
    "    no_of_frames.append((0,0))\n",
    "it = iter(stroke_class)\n",
    "it1=iter(no_of_frames)\n",
    "stroke_frames = dict(zip(it,it1))\n"
   ]
  },
  {
   "cell_type": "code",
   "execution_count": 137,
   "metadata": {},
   "outputs": [
    {
     "data": {
      "text/plain": [
       "{'Offensive Forehand Hit': (0, 0),\n",
       " 'Offensive Forehand Loop': (0, 0),\n",
       " 'Offensive Backhand Loop': (0, 0),\n",
       " 'Offensive Backhand Hit': (0, 0),\n",
       " 'Defensive Forehand Push': (0, 0),\n",
       " 'Defensive Forehand Block': (0, 0),\n",
       " 'Defensive Forehand Backspin': (0, 0),\n",
       " 'Defensive Backhand Backspin': (0, 0),\n",
       " 'Defensive Backhand Push': (0, 0),\n",
       " 'Defensive Backhand Block': (0, 0),\n",
       " 'Serve Forehand Backspin': (0, 0),\n",
       " 'Serve Forehand Sidespin': (0, 0),\n",
       " 'Serve Forehand Loop': (0, 0),\n",
       " 'Serve Forehand Topspin': (0, 0),\n",
       " 'Serve Backhand Backspin': (0, 0),\n",
       " 'Serve Backhand Topspin': (0, 0),\n",
       " 'Offensive Backhand Flip': (0, 0),\n",
       " 'Offensive Forehand Flip': (0, 0)}"
      ]
     },
     "execution_count": 137,
     "metadata": {},
     "output_type": "execute_result"
    }
   ],
   "source": [
    "stroke_frames"
   ]
  },
  {
   "cell_type": "code",
   "execution_count": 138,
   "metadata": {},
   "outputs": [
    {
     "name": "stdout",
     "output_type": "stream",
     "text": [
      "0\n"
     ]
    }
   ],
   "source": [
    "print(stroke_frames.get(\"Defensive Backhand Backspin\")[1])"
   ]
  },
  {
   "cell_type": "code",
   "execution_count": 139,
   "metadata": {},
   "outputs": [],
   "source": [
    "#checking min max frame from valid set\n",
    "min_tag=False\n",
    "for valid_xml_path in valid_xml_paths:\n",
    "    file = minidom.parse(valid_xml_path)\n",
    "    node = file.getElementsByTagName('action')\n",
    "    for strokes in node:\n",
    "        begin_frame=strokes.attributes['begin'].value\n",
    "        end_frame=strokes.attributes['end'].value\n",
    "        stroke_name=strokes.attributes['move'].value\n",
    "        frame_count=int(end_frame)-int(begin_frame)\n",
    "        max_count=stroke_frames.get(stroke_name)[0]\n",
    "        min_count=stroke_frames.get(stroke_name)[1]\n",
    "        if frame_count>max_count:\n",
    "            max_count=frame_count\n",
    "        if min_tag==False:\n",
    "            min_count=frame_count\n",
    "        if frame_count<min_count and min_tag==True:\n",
    "            min_count=frame_count\n",
    "        stroke_frames.update({stroke_name:(max_count,min_count)})\n",
    "#checking min max frame from training set        \n",
    "for train_xml_path in train_xml_paths:\n",
    "    file = minidom.parse(train_xml_path)\n",
    "    node = file.getElementsByTagName('action')\n",
    "    for strokes in node:\n",
    "        begin_frame=strokes.attributes['begin'].value\n",
    "        end_frame=strokes.attributes['end'].value\n",
    "        stroke_name=strokes.attributes['move'].value\n",
    "        frame_count=int(end_frame)-int(begin_frame)\n",
    "        max_count=stroke_frames.get(stroke_name)[0]\n",
    "        min_count=stroke_frames.get(stroke_name)[1]\n",
    "        if frame_count>max_count:\n",
    "            max_count=frame_count\n",
    "        if min_tag==False:\n",
    "            min_count=frame_count\n",
    "        if frame_count<min_count and min_tag==True:\n",
    "            min_count=frame_count\n",
    "        stroke_frames.update({stroke_name:(max_count,min_count)})        "
   ]
  },
  {
   "cell_type": "code",
   "execution_count": 140,
   "metadata": {},
   "outputs": [
    {
     "data": {
      "text/plain": [
       "{'Offensive Forehand Hit': (196, 152),\n",
       " 'Offensive Forehand Loop': (216, 132),\n",
       " 'Offensive Backhand Loop': (160, 128),\n",
       " 'Offensive Backhand Hit': (176, 140),\n",
       " 'Defensive Forehand Push': (224, 136),\n",
       " 'Defensive Forehand Block': (232, 152),\n",
       " 'Defensive Forehand Backspin': (216, 172),\n",
       " 'Defensive Backhand Backspin': (236, 152),\n",
       " 'Defensive Backhand Push': (228, 124),\n",
       " 'Defensive Backhand Block': (188, 144),\n",
       " 'Serve Forehand Backspin': (204, 160),\n",
       " 'Serve Forehand Sidespin': (108, 108),\n",
       " 'Serve Forehand Loop': (156, 144),\n",
       " 'Serve Forehand Topspin': (272, 160),\n",
       " 'Serve Backhand Backspin': (292, 136),\n",
       " 'Serve Backhand Topspin': (196, 164),\n",
       " 'Offensive Backhand Flip': (288, 128),\n",
       " 'Offensive Forehand Flip': (248, 196)}"
      ]
     },
     "execution_count": 140,
     "metadata": {},
     "output_type": "execute_result"
    }
   ],
   "source": [
    "stroke_frames"
   ]
  },
  {
   "cell_type": "code",
   "execution_count": 141,
   "metadata": {},
   "outputs": [
    {
     "name": "stdout",
     "output_type": "stream",
     "text": [
      "+-----------------------------+--------------------+--------------------+\n",
      "|         Stroke Name         | Maximum Frame Size | Minimum Frame Size |\n",
      "+-----------------------------+--------------------+--------------------+\n",
      "|    Offensive Forehand Hit   |        196         |        152         |\n",
      "|   Offensive Forehand Loop   |        216         |        132         |\n",
      "|   Offensive Backhand Loop   |        160         |        128         |\n",
      "|    Offensive Backhand Hit   |        176         |        140         |\n",
      "|   Defensive Forehand Push   |        224         |        136         |\n",
      "|   Defensive Forehand Block  |        232         |        152         |\n",
      "| Defensive Forehand Backspin |        216         |        172         |\n",
      "| Defensive Backhand Backspin |        236         |        152         |\n",
      "|   Defensive Backhand Push   |        228         |        124         |\n",
      "|   Defensive Backhand Block  |        188         |        144         |\n",
      "|   Serve Forehand Backspin   |        204         |        160         |\n",
      "|   Serve Forehand Sidespin   |        108         |        108         |\n",
      "|     Serve Forehand Loop     |        156         |        144         |\n",
      "|    Serve Forehand Topspin   |        272         |        160         |\n",
      "|   Serve Backhand Backspin   |        292         |        136         |\n",
      "|    Serve Backhand Topspin   |        196         |        164         |\n",
      "|   Offensive Backhand Flip   |        288         |        128         |\n",
      "|   Offensive Forehand Flip   |        248         |        196         |\n",
      "+-----------------------------+--------------------+--------------------+\n"
     ]
    }
   ],
   "source": [
    "from prettytable import PrettyTable \n",
    "myTable = PrettyTable([\"Stroke Name\",\"Maximum Frame Size\",\"Minimum Frame Size\"])\n",
    "for key, value in stroke_frames.items():\n",
    "    myTable.add_row([str(key), str(value[0]), str(value[1])]) \n",
    "print(myTable)"
   ]
  },
  {
   "cell_type": "code",
   "execution_count": null,
   "metadata": {},
   "outputs": [],
   "source": []
  },
  {
   "cell_type": "code",
   "execution_count": null,
   "metadata": {},
   "outputs": [],
   "source": []
  },
  {
   "cell_type": "code",
   "execution_count": null,
   "metadata": {},
   "outputs": [],
   "source": []
  }
 ],
 "metadata": {
  "kernelspec": {
   "display_name": "Python 3",
   "language": "python",
   "name": "python3"
  },
  "language_info": {
   "codemirror_mode": {
    "name": "ipython",
    "version": 3
   },
   "file_extension": ".py",
   "mimetype": "text/x-python",
   "name": "python",
   "nbconvert_exporter": "python",
   "pygments_lexer": "ipython3",
   "version": "3.8.5"
  }
 },
 "nbformat": 4,
 "nbformat_minor": 4
}
